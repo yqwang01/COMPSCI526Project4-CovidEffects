{
 "cells": [
  {
   "cell_type": "code",
   "execution_count": 1,
   "id": "b2ed3ad9-355a-4c11-9f3e-d4fdf0fdfc4b",
   "metadata": {
    "tags": []
   },
   "outputs": [
    {
     "name": "stdout",
     "output_type": "stream",
     "text": [
      "[[0 0 0 ... 1 1 1]]\n",
      "(1, 8400)\n",
      "[0 0 0 ... 1 1 1]\n",
      "[0 0 0 ... 1 1 1]\n"
     ]
    }
   ],
   "source": [
    "import pandas as pd\n",
    "import numpy as np\n",
    "\n",
    "df = pd.ExcelFile('COVID-19-Constructed-Dataset-(PANEL).xlsx').parse('Sheet1')\n",
    "school=[]\n",
    "school.append(df['school'])\n",
    "\n",
    "school = np.array(school)\n",
    "print(school)\n",
    "print(school.shape)\n",
    "print(school[0])\n",
    "\n",
    "school = school[0]\n",
    "print(school)"
   ]
  },
  {
   "cell_type": "code",
   "execution_count": 2,
   "id": "06b36dbd-2e5f-4c44-a022-c8a641536f31",
   "metadata": {
    "tags": []
   },
   "outputs": [
    {
     "name": "stdout",
     "output_type": "stream",
     "text": [
      "[[1 1 1 ... 1 1 1]]\n",
      "[1 1 1 ... 1 1 1]\n"
     ]
    }
   ],
   "source": [
    "covidpos = []\n",
    "covidpos.append(df['covidpos'])\n",
    "\n",
    "covidpos = np.array(covidpos)\n",
    "print(covidpos)\n",
    "\n",
    "covidpos = covidpos[0]\n",
    "print(covidpos)"
   ]
  },
  {
   "cell_type": "code",
   "execution_count": 3,
   "id": "f3a09077-5e7e-4d16-96a6-578fe6d365d3",
   "metadata": {
    "tags": []
   },
   "outputs": [],
   "source": [
    "# load readingscore, writingscore, mathscore, readingscoreSL, writingscoreSL, mathscoreSL\n",
    "\n",
    "readingscore = []\n",
    "readingscore.append(df['readingscore'])\n",
    "readingscore = np.array(readingscore)\n",
    "readingscore = readingscore[0]\n",
    "\n",
    "writingscore = []\n",
    "writingscore.append(df['writingscore'])\n",
    "writingscore = np.array(writingscore)\n",
    "writingscore = writingscore[0]\n",
    "\n",
    "mathscore = []\n",
    "mathscore.append(df['mathscore'])\n",
    "mathscore = np.array(mathscore)\n",
    "mathscore = mathscore[0]\n",
    "\n",
    "\n",
    "readingscoreSL = [] \n",
    "readingscoreSL.append(df['readingscoreSL'])\n",
    "readingscoreSL = np.array(readingscoreSL)\n",
    "readingscoreSL = readingscoreSL[0]\n",
    "\n",
    "writingscoreSL = []\n",
    "writingscoreSL.append(df['writingscoreSL'])\n",
    "writingscoreSL = np.array(writingscoreSL)\n",
    "writingscoreSL = writingscoreSL[0]\n",
    "\n",
    "mathscoreSL = []\n",
    "mathscoreSL.append(df['mathscoreSL'])\n",
    "mathscoreSL = np.array(mathscoreSL)\n",
    "mathscoreSL = mathscoreSL[0]"
   ]
  },
  {
   "cell_type": "code",
   "execution_count": 10,
   "id": "2da6beae-7eda-47c7-82cb-f1835c3da75e",
   "metadata": {
    "tags": []
   },
   "outputs": [
    {
     "name": "stdout",
     "output_type": "stream",
     "text": [
      "Average reading score: 73.85305449985323\n",
      "READING SCORE\n",
      "school 0 - mean reading score: 80.57048085712252 - variance: 110.60089600385163\n",
      "school 1 - mean reading score: 67.13562814258394 - variance: 152.7013366717343\n",
      "T-value: 53.65748143579656\n",
      "Degrees of freedom: 8188.648334460586\n",
      "P-value: 0.0\n"
     ]
    }
   ],
   "source": [
    "import statistics\n",
    "from scipy.stats import t\n",
    "\n",
    "\n",
    "school0_readingscores = []\n",
    "school1_readingscores = [] \n",
    "\n",
    "for i in range(len(readingscore)):\n",
    "    if school[i] == 0:\n",
    "        school0_readingscores.append(readingscore[i])\n",
    "    else:\n",
    "        school1_readingscores.append(readingscore[i])\n",
    "        \n",
    "# print(len(school0_readingscores))\n",
    "# print(len(school1_readingscores))\n",
    "print(f'Average reading score: {statistics.mean(readingscore)}')\n",
    "print('READING SCORE')\n",
    "print(f'school 0 - mean reading score: {statistics.mean(school0_readingscores)} - variance: {statistics.variance(school0_readingscores)}')\n",
    "print(f'school 1 - mean reading score: {statistics.mean(school1_readingscores)} - variance: {statistics.variance(school1_readingscores)}')\n",
    "\n",
    "\n",
    "mean_school0 = statistics.mean(school0_readingscores)\n",
    "mean_school1 = statistics.mean(school1_readingscores)\n",
    "var_school0 = statistics.variance(school0_readingscores)\n",
    "var_school1 = statistics.variance(school1_readingscores)\n",
    "n_school0 = len(school0_readingscores)\n",
    "n_school1 = len(school1_readingscores)\n",
    "\n",
    "\n",
    "t_value = (mean_school0 - mean_school1) / np.sqrt((var_school0 / n_school0) + (var_school1 / n_school1))\n",
    "\n",
    "df = ((var_school0 / n_school0) + (var_school1 / n_school1))**2 / (((var_school0 / n_school0)**2 / (n_school0 - 1)) + ((var_school1 / n_school1)**2 / (n_school1 - 1)))\n",
    "\n",
    "# Calculate the two-tailed p-value\n",
    "p_value = t.sf(np.abs(t_value), df) * 2\n",
    "\n",
    "print(f'T-value: {t_value}')\n",
    "print(f'Degrees of freedom: {df}')\n",
    "print(f'P-value: {p_value}')\n"
   ]
  },
  {
   "cell_type": "code",
   "execution_count": 17,
   "id": "99443199",
   "metadata": {},
   "outputs": [
    {
     "name": "stdout",
     "output_type": "stream",
     "text": [
      "Average writing score: 76.44221496990748\n",
      "WRITING SCORE\n",
      "school 0 - mean reading score: 83.13902367546444 - variance: 127.62048777813126\n",
      "school 1 - mean reading score: 69.74540626435052 - variance: 183.87698180051558\n",
      "T-value: 49.18076420424364\n",
      "Degrees of freedom: 8132.739170328485\n",
      "P-value: 0.0\n"
     ]
    }
   ],
   "source": [
    "school0_writingscores = []\n",
    "school1_writingscores = [] \n",
    "\n",
    "for i in range(len(writingscore)):\n",
    "    if school[i] == 0:\n",
    "        school0_writingscores.append(writingscore[i])\n",
    "    else:\n",
    "        school1_writingscores.append(writingscore[i])\n",
    "        \n",
    "# print(len(school0_readingscores))\n",
    "# print(len(school1_readingscores))\n",
    "print(f'Average writing score: {statistics.mean(writingscore)}')\n",
    "print('WRITING SCORE')\n",
    "print(f'school 0 - mean writing score: {statistics.mean(school0_writingscores)} - variance: {statistics.variance(school0_writingscores)}')\n",
    "print(f'school 1 - mean writing score: {statistics.mean(school1_writingscores)} - variance: {statistics.variance(school1_writingscores)}')\n",
    "\n",
    "\n",
    "mean_school0 = statistics.mean(school0_writingscores)\n",
    "mean_school1 = statistics.mean(school1_writingscores)\n",
    "var_school0 = statistics.variance(school0_writingscores)\n",
    "var_school1 = statistics.variance(school1_writingscores)\n",
    "n_school0 = len(school0_writingscores)\n",
    "n_school1 = len(school1_writingscores)\n",
    "\n",
    "\n",
    "t_value = (mean_school0 - mean_school1) / np.sqrt((var_school0 / n_school0) + (var_school1 / n_school1))\n",
    "\n",
    "df = ((var_school0 / n_school0) + (var_school1 / n_school1))**2 / (((var_school0 / n_school0)**2 / (n_school0 - 1)) + ((var_school1 / n_school1)**2 / (n_school1 - 1)))\n",
    "\n",
    "# Calculate the two-tailed p-value\n",
    "p_value = t.sf(np.abs(t_value), df) * 2\n",
    "\n",
    "print(f'T-value: {t_value}')\n",
    "print(f'Degrees of freedom: {df}')\n",
    "print(f'P-value: {p_value}')"
   ]
  },
  {
   "cell_type": "code",
   "execution_count": 18,
   "id": "cda3710a",
   "metadata": {},
   "outputs": [
    {
     "name": "stdout",
     "output_type": "stream",
     "text": [
      "Average math score: 74.68687063217163\n",
      "MATH SCORE\n",
      "school 0 - mean reading score: 79.70328744161696 - variance: 124.5320118739117\n",
      "school 1 - mean reading score: 69.6704538227263 - variance: 177.95399687681035\n",
      "T-value: 37.38484716801382\n",
      "Degrees of freedom: 8143.98099493463\n",
      "P-value: 1.871643181930285e-282\n"
     ]
    }
   ],
   "source": [
    "school0_mathscores = []\n",
    "school1_mathscores = [] \n",
    "\n",
    "for i in range(len(mathscore)):\n",
    "    if school[i] == 0:\n",
    "        school0_mathscores.append(mathscore[i])\n",
    "    else:\n",
    "        school1_mathscores.append(mathscore[i])\n",
    "        \n",
    "# print(len(school0_readingscores))\n",
    "# print(len(school1_readingscores))\n",
    "print(f'Average math score: {statistics.mean(mathscore)}')\n",
    "print('MATH SCORE')\n",
    "print(f'school 0 - mean math score: {statistics.mean(school0_mathscores)} - variance: {statistics.variance(school0_mathscores)}')\n",
    "print(f'school 1 - mean math score: {statistics.mean(school1_mathscores)} - variance: {statistics.variance(school1_mathscores)}')\n",
    "\n",
    "\n",
    "mean_school0 = statistics.mean(school0_mathscores)\n",
    "mean_school1 = statistics.mean(school1_mathscores)\n",
    "var_school0 = statistics.variance(school0_mathscores)\n",
    "var_school1 = statistics.variance(school1_mathscores)\n",
    "n_school0 = len(school0_mathscores)\n",
    "n_school1 = len(school1_mathscores)\n",
    "\n",
    "\n",
    "t_value = (mean_school0 - mean_school1) / np.sqrt((var_school0 / n_school0) + (var_school1 / n_school1))\n",
    "\n",
    "df = ((var_school0 / n_school0) + (var_school1 / n_school1))**2 / (((var_school0 / n_school0)**2 / (n_school0 - 1)) + ((var_school1 / n_school1)**2 / (n_school1 - 1)))\n",
    "\n",
    "# Calculate the two-tailed p-value\n",
    "p_value = t.sf(np.abs(t_value), df) * 2\n",
    "\n",
    "print(f'T-value: {t_value}')\n",
    "print(f'Degrees of freedom: {df}')\n",
    "print(f'P-value: {p_value}')"
   ]
  },
  {
   "cell_type": "code",
   "execution_count": 16,
   "id": "420abfaa",
   "metadata": {},
   "outputs": [
    {
     "name": "stdout",
     "output_type": "stream",
     "text": [
      "Average reading score SL: 70.8286707687378\n",
      "READING SCORE SL\n",
      "school 0 - mean reading score: 76.82235536938622 - variance: 135.32823522015318\n",
      "school 1 - mean reading score: 64.83498616808937 - variance: 152.47072000288756\n",
      "T-value: 45.793508667016525\n",
      "Degrees of freedom: 8368.310226051193\n",
      "P-value: 0.0\n"
     ]
    }
   ],
   "source": [
    "school0_readingscoresSL = []\n",
    "school1_readingscoresSL = [] \n",
    "\n",
    "for i in range(len(readingscoreSL)):\n",
    "    if school[i] == 0:\n",
    "        school0_readingscoresSL.append(readingscoreSL[i])\n",
    "    else:\n",
    "        school1_readingscoresSL.append(readingscoreSL[i])\n",
    "        \n",
    "# print(len(school0_readingscores))\n",
    "# print(len(school1_readingscores))\n",
    "print(f'Average reading score SL: {statistics.mean(readingscoreSL)}')\n",
    "print('READING SCORE SL')\n",
    "print(f'school 0 - mean reading SL score: {statistics.mean(school0_readingscoresSL)} - variance: {statistics.variance(school0_readingscoresSL)}')\n",
    "print(f'school 1 - mean reading SL score: {statistics.mean(school1_readingscoresSL)} - variance: {statistics.variance(school1_readingscoresSL)}')\n",
    "\n",
    "\n",
    "mean_school0 = statistics.mean(school0_readingscoresSL)\n",
    "mean_school1 = statistics.mean(school1_readingscoresSL)\n",
    "var_school0 = statistics.variance(school0_readingscoresSL)\n",
    "var_school1 = statistics.variance(school1_readingscoresSL)\n",
    "n_school0 = len(school0_readingscoresSL)\n",
    "n_school1 = len(school1_readingscoresSL)\n",
    "\n",
    "\n",
    "t_value = (mean_school0 - mean_school1) / np.sqrt((var_school0 / n_school0) + (var_school1 / n_school1))\n",
    "\n",
    "df = ((var_school0 / n_school0) + (var_school1 / n_school1))**2 / (((var_school0 / n_school0)**2 / (n_school0 - 1)) + ((var_school1 / n_school1)**2 / (n_school1 - 1)))\n",
    "\n",
    "# Calculate the two-tailed p-value\n",
    "p_value = t.sf(np.abs(t_value), df) * 2\n",
    "\n",
    "print(f'T-value: {t_value}')\n",
    "print(f'Degrees of freedom: {df}')\n",
    "print(f'P-value: {p_value}')\n"
   ]
  },
  {
   "cell_type": "code",
   "execution_count": 19,
   "id": "cc2bdd7b",
   "metadata": {},
   "outputs": [
    {
     "name": "stdout",
     "output_type": "stream",
     "text": [
      "Average writing SL score: 72.82170442944481\n",
      "WRITING SL SCORE\n",
      "school 0 - mean reading score: 78.19871687662034 - variance: 115.59135940918753\n",
      "school 1 - mean reading score: 67.44469198226929 - variance: 181.60582539148996\n",
      "T-value: 40.4271696580138\n",
      "Degrees of freedom: 8003.134697868451\n",
      "P-value: 0.0\n"
     ]
    }
   ],
   "source": [
    "school0_writingscoresSL = []\n",
    "school1_writingscoresSL = [] \n",
    "\n",
    "for i in range(len(writingscoreSL)):\n",
    "    if school[i] == 0:\n",
    "        school0_writingscoresSL.append(writingscoreSL[i])\n",
    "    else:\n",
    "        school1_writingscoresSL.append(writingscoreSL[i])\n",
    "        \n",
    "# print(len(school0_readingscores))\n",
    "# print(len(school1_readingscores))\n",
    "print(f'Average writing SL score: {statistics.mean(writingscoreSL)}')\n",
    "print('WRITING SL SCORE')\n",
    "print(f'school 0 - mean writing SL score: {statistics.mean(school0_writingscoresSL)} - variance: {statistics.variance(school0_writingscoresSL)}')\n",
    "print(f'school 1 - mean writing SL score: {statistics.mean(school1_writingscoresSL)} - variance: {statistics.variance(school1_writingscoresSL)}')\n",
    "\n",
    "\n",
    "mean_school0 = statistics.mean(school0_writingscoresSL)\n",
    "mean_school1 = statistics.mean(school1_writingscoresSL)\n",
    "var_school0 = statistics.variance(school0_writingscoresSL)\n",
    "var_school1 = statistics.variance(school1_writingscoresSL)\n",
    "n_school0 = len(school0_writingscoresSL)\n",
    "n_school1 = len(school1_writingscoresSL)\n",
    "\n",
    "\n",
    "t_value = (mean_school0 - mean_school1) / np.sqrt((var_school0 / n_school0) + (var_school1 / n_school1))\n",
    "\n",
    "df = ((var_school0 / n_school0) + (var_school1 / n_school1))**2 / (((var_school0 / n_school0)**2 / (n_school0 - 1)) + ((var_school1 / n_school1)**2 / (n_school1 - 1)))\n",
    "\n",
    "# Calculate the two-tailed p-value\n",
    "p_value = t.sf(np.abs(t_value), df) * 2\n",
    "\n",
    "print(f'T-value: {t_value}')\n",
    "print(f'Degrees of freedom: {df}')\n",
    "print(f'P-value: {p_value}')"
   ]
  },
  {
   "cell_type": "code",
   "execution_count": 20,
   "id": "5dd87333",
   "metadata": {},
   "outputs": [
    {
     "name": "stdout",
     "output_type": "stream",
     "text": [
      "Average math SL score: 71.444913788523\n",
      "MATH SL SCORE\n",
      "school 0 - mean reading score: 75.51498056093851 - variance: 152.28905045873336\n",
      "school 1 - mean reading score: 67.37484701610747 - variance: 180.65743393676615\n",
      "T-value: 28.911389078325843\n",
      "Degrees of freedom: 8337.472224781375\n",
      "P-value: 3.0705466526872387e-175\n"
     ]
    }
   ],
   "source": [
    "school0_mathscoresSL = []\n",
    "school1_mathscoresSL = [] \n",
    "\n",
    "for i in range(len(mathscoreSL)):\n",
    "    if school[i] == 0:\n",
    "        school0_mathscoresSL.append(mathscoreSL[i])\n",
    "    else:\n",
    "        school1_mathscoresSL.append(mathscoreSL[i])\n",
    "        \n",
    "# print(len(school0_readingscores))\n",
    "# print(len(school1_readingscores))\n",
    "print(f'Average math SL score: {statistics.mean(mathscoreSL)}')\n",
    "print('MATH SL SCORE')\n",
    "print(f'school 0 - mean math SL score: {statistics.mean(school0_mathscoresSL)} - variance: {statistics.variance(school0_mathscoresSL)}')\n",
    "print(f'school 1 - mean math SL score: {statistics.mean(school1_mathscoresSL)} - variance: {statistics.variance(school1_mathscoresSL)}')\n",
    "\n",
    "\n",
    "mean_school0 = statistics.mean(school0_mathscoresSL)\n",
    "mean_school1 = statistics.mean(school1_mathscoresSL)\n",
    "var_school0 = statistics.variance(school0_mathscoresSL)\n",
    "var_school1 = statistics.variance(school1_mathscoresSL)\n",
    "n_school0 = len(school0_mathscoresSL)\n",
    "n_school1 = len(school1_mathscoresSL)\n",
    "\n",
    "\n",
    "t_value = (mean_school0 - mean_school1) / np.sqrt((var_school0 / n_school0) + (var_school1 / n_school1))\n",
    "\n",
    "df = ((var_school0 / n_school0) + (var_school1 / n_school1))**2 / (((var_school0 / n_school0)**2 / (n_school0 - 1)) + ((var_school1 / n_school1)**2 / (n_school1 - 1)))\n",
    "\n",
    "# Calculate the two-tailed p-value\n",
    "p_value = t.sf(np.abs(t_value), df) * 2\n",
    "\n",
    "print(f'T-value: {t_value}')\n",
    "print(f'Degrees of freedom: {df}')\n",
    "print(f'P-value: {p_value}')"
   ]
  },
  {
   "cell_type": "markdown",
   "id": "9a4a5bd4",
   "metadata": {},
   "source": [
    "# covidpos"
   ]
  },
  {
   "cell_type": "code",
   "execution_count": 22,
   "id": "cc9380b2",
   "metadata": {},
   "outputs": [
    {
     "name": "stdout",
     "output_type": "stream",
     "text": [
      "Average reading score: 73.85305449985323\n",
      "READING SCORE\n",
      "covidpos 0 - mean reading score: 76.29340223980765 - variance: 163.17981068522118\n",
      "covidpos 1 - mean reading score: 68.93028405891067 - variance: 167.97700942479182\n",
      "T-value: 24.626942258594298\n",
      "Degrees of freedom: 5479.041626419748\n",
      "P-value: 4.244403706121011e-127\n"
     ]
    }
   ],
   "source": [
    "covidpos0_readingscores = []\n",
    "covidpos1_readingscores = [] \n",
    "\n",
    "for i in range(len(readingscore)):\n",
    "    if covidpos[i] == 0:\n",
    "        covidpos0_readingscores.append(readingscore[i])\n",
    "    else:\n",
    "        covidpos1_readingscores.append(readingscore[i])\n",
    "        \n",
    "# print(len(school0_readingscores))\n",
    "# print(len(school1_readingscores))\n",
    "print(f'Average reading score: {statistics.mean(readingscore)}')\n",
    "print('READING SCORE')\n",
    "print(f'covidpos 0 - mean reading score: {statistics.mean(covidpos0_readingscores)} - variance: {statistics.variance(covidpos0_readingscores)}')\n",
    "print(f'covidpos 1 - mean reading score: {statistics.mean(covidpos1_readingscores)} - variance: {statistics.variance(covidpos1_readingscores)}')\n",
    "\n",
    "\n",
    "mean_school0 = statistics.mean(covidpos0_readingscores)\n",
    "mean_school1 = statistics.mean(covidpos1_readingscores)\n",
    "var_school0 = statistics.variance(covidpos0_readingscores)\n",
    "var_school1 = statistics.variance(covidpos1_readingscores)\n",
    "n_school0 = len(covidpos0_readingscores)\n",
    "n_school1 = len(covidpos1_readingscores)\n",
    "\n",
    "\n",
    "t_value = (mean_school0 - mean_school1) / np.sqrt((var_school0 / n_school0) + (var_school1 / n_school1))\n",
    "\n",
    "df = ((var_school0 / n_school0) + (var_school1 / n_school1))**2 / (((var_school0 / n_school0)**2 / (n_school0 - 1)) + ((var_school1 / n_school1)**2 / (n_school1 - 1)))\n",
    "\n",
    "# Calculate the two-tailed p-value\n",
    "p_value = t.sf(np.abs(t_value), df) * 2\n",
    "\n",
    "print(f'T-value: {t_value}')\n",
    "print(f'Degrees of freedom: {df}')\n",
    "print(f'P-value: {p_value}')"
   ]
  },
  {
   "cell_type": "code",
   "execution_count": 26,
   "id": "52b7e41e",
   "metadata": {},
   "outputs": [
    {
     "name": "stdout",
     "output_type": "stream",
     "text": [
      "Average writing score: 76.44221496990748\n",
      "WRITING SCORE\n",
      "covidpos 0 - mean writing score: 78.82285629853904 - variance: 182.47717724897532\n",
      "covidpos 1 - mean writing score: 71.63988677249557 - variance: 202.67746378670603\n",
      "T-value: 22.13624160903425\n",
      "Degrees of freedom: 5298.46275788673\n",
      "P-value: 6.406892835303732e-104\n"
     ]
    }
   ],
   "source": [
    "covidpos0_writingscores = []\n",
    "covidpos1_writingscores = [] \n",
    "\n",
    "for i in range(len(writingscore)):\n",
    "    if covidpos[i] == 0:\n",
    "        covidpos0_writingscores.append(writingscore[i])\n",
    "    else:\n",
    "        covidpos1_writingscores.append(writingscore[i])\n",
    "        \n",
    "# print(len(school0_readingscores))\n",
    "# print(len(school1_readingscores))\n",
    "print(f'Average writing score: {statistics.mean(writingscore)}')\n",
    "print('WRITING SCORE')\n",
    "print(f'covidpos 0 - mean writing score: {statistics.mean(covidpos0_writingscores)} - variance: {statistics.variance(covidpos0_writingscores)}')\n",
    "print(f'covidpos 1 - mean writing score: {statistics.mean(covidpos1_writingscores)} - variance: {statistics.variance(covidpos1_writingscores)}')\n",
    "\n",
    "\n",
    "mean_school0 = statistics.mean(covidpos0_writingscores)\n",
    "mean_school1 = statistics.mean(covidpos1_writingscores)\n",
    "var_school0 = statistics.variance(covidpos0_writingscores)\n",
    "var_school1 = statistics.variance(covidpos1_writingscores)\n",
    "n_school0 = len(covidpos0_writingscores)\n",
    "n_school1 = len(covidpos1_writingscores)\n",
    "\n",
    "\n",
    "t_value = (mean_school0 - mean_school1) / np.sqrt((var_school0 / n_school0) + (var_school1 / n_school1))\n",
    "\n",
    "df = ((var_school0 / n_school0) + (var_school1 / n_school1))**2 / (((var_school0 / n_school0)**2 / (n_school0 - 1)) + ((var_school1 / n_school1)**2 / (n_school1 - 1)))\n",
    "\n",
    "# Calculate the two-tailed p-value\n",
    "p_value = t.sf(np.abs(t_value), df) * 2\n",
    "\n",
    "print(f'T-value: {t_value}')\n",
    "print(f'Degrees of freedom: {df}')\n",
    "print(f'P-value: {p_value}')"
   ]
  },
  {
   "cell_type": "code",
   "execution_count": 24,
   "id": "8eb48c72",
   "metadata": {},
   "outputs": [
    {
     "name": "stdout",
     "output_type": "stream",
     "text": [
      "Average math score: 74.68687063217163\n",
      "math SCORE\n",
      "covidpos 0 - mean math score: 76.59427307406042 - variance: 160.39846349160993\n",
      "covidpos 1 - mean math score: 70.83917949939597 - variance: 186.57357249255293\n",
      "T-value: 18.615508260329825\n",
      "Degrees of freedom: 5193.093955657708\n",
      "P-value: 6.303362515052586e-75\n"
     ]
    }
   ],
   "source": [
    "covidpos0_mathscores = []\n",
    "covidpos1_mathscores = [] \n",
    "\n",
    "for i in range(len(mathscore)):\n",
    "    if covidpos[i] == 0:\n",
    "        covidpos0_mathscores.append(mathscore[i])\n",
    "    else:\n",
    "        covidpos1_mathscores.append(mathscore[i])\n",
    "        \n",
    "# print(len(school0_readingscores))\n",
    "# print(len(school1_readingscores))\n",
    "print(f'Average math score: {statistics.mean(mathscore)}')\n",
    "print('math SCORE')\n",
    "print(f'covidpos 0 - mean math score: {statistics.mean(covidpos0_mathscores)} - variance: {statistics.variance(covidpos0_mathscores)}')\n",
    "print(f'covidpos 1 - mean math score: {statistics.mean(covidpos1_mathscores)} - variance: {statistics.variance(covidpos1_mathscores)}')\n",
    "\n",
    "\n",
    "mean_school0 = statistics.mean(covidpos0_mathscores)\n",
    "mean_school1 = statistics.mean(covidpos1_mathscores)\n",
    "var_school0 = statistics.variance(covidpos0_mathscores)\n",
    "var_school1 = statistics.variance(covidpos1_mathscores)\n",
    "n_school0 = len(covidpos0_mathscores)\n",
    "n_school1 = len(covidpos1_mathscores)\n",
    "\n",
    "\n",
    "t_value = (mean_school0 - mean_school1) / np.sqrt((var_school0 / n_school0) + (var_school1 / n_school1))\n",
    "\n",
    "df = ((var_school0 / n_school0) + (var_school1 / n_school1))**2 / (((var_school0 / n_school0)**2 / (n_school0 - 1)) + ((var_school1 / n_school1)**2 / (n_school1 - 1)))\n",
    "\n",
    "# Calculate the two-tailed p-value\n",
    "p_value = t.sf(np.abs(t_value), df) * 2\n",
    "\n",
    "print(f'T-value: {t_value}')\n",
    "print(f'Degrees of freedom: {df}')\n",
    "print(f'P-value: {p_value}')"
   ]
  },
  {
   "cell_type": "code",
   "execution_count": 25,
   "id": "f062ebea",
   "metadata": {},
   "outputs": [
    {
     "name": "stdout",
     "output_type": "stream",
     "text": [
      "Average reading SL score: 70.8286707687378\n",
      "READING SL SCORE\n",
      "covidpos 0 - mean reading SL score: 73.32455008525794 - variance: 166.97359507427018\n",
      "covidpos 1 - mean reading SL score: 65.79387973368853 - variance: 167.84710047816935\n",
      "T-value: 25.09921270209786\n",
      "Degrees of freedom: 5537.228490675688\n",
      "P-value: 9.252126007171756e-132\n"
     ]
    }
   ],
   "source": [
    "covidpos0_readingscoresSL = []\n",
    "covidpos1_readingscoresSL = [] \n",
    "\n",
    "for i in range(len(readingscoreSL)):\n",
    "    if covidpos[i] == 0:\n",
    "        covidpos0_readingscoresSL.append(readingscoreSL[i])\n",
    "    else:\n",
    "        covidpos1_readingscoresSL.append(readingscoreSL[i])\n",
    "        \n",
    "# print(len(school0_readingscores))\n",
    "# print(len(school1_readingscores))\n",
    "print(f'Average reading SL score: {statistics.mean(readingscoreSL)}')\n",
    "print('READING SL SCORE')\n",
    "print(f'covidpos 0 - mean reading SL score: {statistics.mean(covidpos0_readingscoresSL)} - variance: {statistics.variance(covidpos0_readingscoresSL)}')\n",
    "print(f'covidpos 1 - mean reading SL score: {statistics.mean(covidpos1_readingscoresSL)} - variance: {statistics.variance(covidpos1_readingscoresSL)}')\n",
    "\n",
    "\n",
    "mean_school0 = statistics.mean(covidpos0_readingscoresSL)\n",
    "mean_school1 = statistics.mean(covidpos1_readingscoresSL)\n",
    "var_school0 = statistics.variance(covidpos0_readingscoresSL)\n",
    "var_school1 = statistics.variance(covidpos1_readingscoresSL)\n",
    "n_school0 = len(covidpos0_readingscoresSL)\n",
    "n_school1 = len(covidpos1_readingscoresSL)\n",
    "\n",
    "\n",
    "t_value = (mean_school0 - mean_school1) / np.sqrt((var_school0 / n_school0) + (var_school1 / n_school1))\n",
    "\n",
    "df = ((var_school0 / n_school0) + (var_school1 / n_school1))**2 / (((var_school0 / n_school0)**2 / (n_school0 - 1)) + ((var_school1 / n_school1)**2 / (n_school1 - 1)))\n",
    "\n",
    "# Calculate the two-tailed p-value\n",
    "p_value = t.sf(np.abs(t_value), df) * 2\n",
    "\n",
    "print(f'T-value: {t_value}')\n",
    "print(f'Degrees of freedom: {df}')\n",
    "print(f'P-value: {p_value}')"
   ]
  },
  {
   "cell_type": "code",
   "execution_count": 27,
   "id": "98d68c86",
   "metadata": {},
   "outputs": [
    {
     "name": "stdout",
     "output_type": "stream",
     "text": [
      "Average writing SL score: 72.82170442944481\n",
      "WRITING SL SCORE\n",
      "covidpos 0 - mean writing SL score: 75.20245805628959 - variance: 157.2454839175313\n",
      "covidpos 1 - mean writing SL score: 68.01914969943036 - variance: 183.9085584660879\n",
      "T-value: 23.422061373478797\n",
      "Degrees of freedom: 5180.841511056809\n",
      "P-value: 2.1004641016960147e-115\n"
     ]
    }
   ],
   "source": [
    "covidpos0_writingscoresSL = []\n",
    "covidpos1_writingscoresSL = [] \n",
    "\n",
    "for i in range(len(writingscoreSL)):\n",
    "    if covidpos[i] == 0:\n",
    "        covidpos0_writingscoresSL.append(writingscoreSL[i])\n",
    "    else:\n",
    "        covidpos1_writingscoresSL.append(writingscoreSL[i])\n",
    "        \n",
    "# print(len(school0_readingscores))\n",
    "# print(len(school1_readingscores))\n",
    "print(f'Average writing SL score: {statistics.mean(writingscoreSL)}')\n",
    "print('WRITING SL SCORE')\n",
    "print(f'covidpos 0 - mean writing SL score: {statistics.mean(covidpos0_writingscoresSL)} - variance: {statistics.variance(covidpos0_writingscoresSL)}')\n",
    "print(f'covidpos 1 - mean writing SL score: {statistics.mean(covidpos1_writingscoresSL)} - variance: {statistics.variance(covidpos1_writingscoresSL)}')\n",
    "\n",
    "\n",
    "mean_school0 = statistics.mean(covidpos0_writingscoresSL)\n",
    "mean_school1 = statistics.mean(covidpos1_writingscoresSL)\n",
    "var_school0 = statistics.variance(covidpos0_writingscoresSL)\n",
    "var_school1 = statistics.variance(covidpos1_writingscoresSL)\n",
    "n_school0 = len(covidpos0_writingscoresSL)\n",
    "n_school1 = len(covidpos1_writingscoresSL)\n",
    "\n",
    "\n",
    "t_value = (mean_school0 - mean_school1) / np.sqrt((var_school0 / n_school0) + (var_school1 / n_school1))\n",
    "\n",
    "df = ((var_school0 / n_school0) + (var_school1 / n_school1))**2 / (((var_school0 / n_school0)**2 / (n_school0 - 1)) + ((var_school1 / n_school1)**2 / (n_school1 - 1)))\n",
    "\n",
    "# Calculate the two-tailed p-value\n",
    "p_value = t.sf(np.abs(t_value), df) * 2\n",
    "\n",
    "print(f'T-value: {t_value}')\n",
    "print(f'Degrees of freedom: {df}')\n",
    "print(f'P-value: {p_value}')"
   ]
  },
  {
   "cell_type": "code",
   "execution_count": 28,
   "id": "225b7849",
   "metadata": {},
   "outputs": [
    {
     "name": "stdout",
     "output_type": "stream",
     "text": [
      "Average math SL core: 71.444913788523\n",
      "MATH SL SCORE\n",
      "covidpos 0 - mean math SL score: 73.44192079770939 - variance: 169.78576431476023\n",
      "covidpos 1 - mean math SL score: 67.41646861481941 - variance: 185.50785042550578\n",
      "T-value: 19.359930475661216\n",
      "Degrees of freedom: 5336.755099165695\n",
      "P-value: 9.357900978504736e-81\n"
     ]
    }
   ],
   "source": [
    "covidpos0_mathscoresSL = []\n",
    "covidpos1_mathscoresSL = [] \n",
    "\n",
    "for i in range(len(mathscoreSL)):\n",
    "    if covidpos[i] == 0:\n",
    "        covidpos0_mathscoresSL.append(mathscoreSL[i])\n",
    "    else:\n",
    "        covidpos1_mathscoresSL.append(mathscoreSL[i])\n",
    "        \n",
    "# print(len(school0_readingscores))\n",
    "# print(len(school1_readingscores))\n",
    "print(f'Average math SL core: {statistics.mean(mathscoreSL)}')\n",
    "print('MATH SL SCORE')\n",
    "print(f'covidpos 0 - mean math SL score: {statistics.mean(covidpos0_mathscoresSL)} - variance: {statistics.variance(covidpos0_mathscoresSL)}')\n",
    "print(f'covidpos 1 - mean math SL score: {statistics.mean(covidpos1_mathscoresSL)} - variance: {statistics.variance(covidpos1_mathscoresSL)}')\n",
    "\n",
    "\n",
    "mean_school0 = statistics.mean(covidpos0_mathscoresSL)\n",
    "mean_school1 = statistics.mean(covidpos1_mathscoresSL)\n",
    "var_school0 = statistics.variance(covidpos0_mathscoresSL)\n",
    "var_school1 = statistics.variance(covidpos1_mathscoresSL)\n",
    "n_school0 = len(covidpos0_mathscoresSL)\n",
    "n_school1 = len(covidpos1_mathscoresSL)\n",
    "\n",
    "\n",
    "t_value = (mean_school0 - mean_school1) / np.sqrt((var_school0 / n_school0) + (var_school1 / n_school1))\n",
    "\n",
    "df = ((var_school0 / n_school0) + (var_school1 / n_school1))**2 / (((var_school0 / n_school0)**2 / (n_school0 - 1)) + ((var_school1 / n_school1)**2 / (n_school1 - 1)))\n",
    "\n",
    "# Calculate the two-tailed p-value\n",
    "p_value = t.sf(np.abs(t_value), df) * 2\n",
    "\n",
    "print(f'T-value: {t_value}')\n",
    "print(f'Degrees of freedom: {df}')\n",
    "print(f'P-value: {p_value}')"
   ]
  },
  {
   "cell_type": "code",
   "execution_count": null,
   "id": "c78bdded",
   "metadata": {},
   "outputs": [],
   "source": []
  }
 ],
 "metadata": {
  "kernelspec": {
   "display_name": "Python 3 (ipykernel)",
   "language": "python",
   "name": "python3"
  },
  "language_info": {
   "codemirror_mode": {
    "name": "ipython",
    "version": 3
   },
   "file_extension": ".py",
   "mimetype": "text/x-python",
   "name": "python",
   "nbconvert_exporter": "python",
   "pygments_lexer": "ipython3",
   "version": "3.10.10"
  }
 },
 "nbformat": 4,
 "nbformat_minor": 5
}
